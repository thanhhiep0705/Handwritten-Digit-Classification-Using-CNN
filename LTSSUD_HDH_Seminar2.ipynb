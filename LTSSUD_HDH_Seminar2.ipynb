{
  "cells": [
    {
      "cell_type": "markdown",
      "metadata": {
        "id": "eExqcHlHxQCX"
      },
      "source": [
        "#Đồ án: Song song hóa bài toán nhận dạng chữ số viết tay bằng Neural Network\n",
        "##Môn: Lập trình song song ứng dụng\n",
        "##Nhóm HDH:\n",
        "###1. 19120485 - Nguyễn Phạm Quang Dũng\n",
        "###2. 19120505 - Dương Thanh Hiệp\n",
        "###3. 19120515 - Nguyễn Huy Hoàng\n",
        "##Giáo viên hướng dẫn: ThS. Phạm Trọng Nghĩa"
      ]
    },
    {
      "cell_type": "markdown",
      "metadata": {
        "id": "_PQ4teeLqVxO"
      },
      "source": [
        "# Giới thiệu bài toán"
      ]
    },
    {
      "cell_type": "markdown",
      "source": [
        "## **Mô tả tổng quan**\n",
        "#### Neural Network là một trong những thuật toán quan trọng và được sử dụng phổ biến trong lĩnh vực Machine Learning và Artificial Intelligence. Trong những năm gần đây, với sự phát triển của công nghệ và dữ liệu lớn, Neural Network đã được áp dụng rộng rãi trong các lĩnh vực như nhận dạng hình ảnh, xử lý ngôn ngữ tự nhiên, dự đoán chuỗi thời gian và nhiều lĩnh vực khác. Các mô hình Neural Network ngày càng phức tạp và chính xác hơn, và đã đạt được nhiều kết quả ấn tượng trong các bài toán thực tế.\n",
        "#### Bài toán nhận dạng chữ số viết tay sử dụng Neural Network là một bài toán quan trọng trong lĩnh vực xử lý ảnh và nhận dạng ký tự. Ứng dụng của nó rất rộng và đa dạng trong nhiều lĩnh vực, chẳng hạn như:\n",
        "\n",
        "* Trong các ứng dụng văn bản số hóa, việc nhận dạng số trên các hóa đơn, giấy tờ quan trọng, biểu mẫu, v.v. là một bước quan trọng để tự động hóa quá trình xử lý và tăng tốc độ công việc.\n",
        "*   Trong các ứng dụng chấm điểm thi trắc nghiệm, việc nhận dạng đáp án từ tờ giấy thi cũng là một bài toán tương tự.\n",
        "\n",
        "*   Trong các ứng dụng an ninh, nhận dạng số trên biển số xe, các thẻ tín dụng, thẻ căn cước, v.v. cũng là một bước quan trọng để phục vụ cho các hoạt động giám sát và kiểm soát.\n",
        "\n",
        "#### Nhận dạng biển số\n",
        "\n",
        "<img src='https://www.ttz.com.vn/uploads/News/mot-he-thong-anpr-thuong-gap.jpg'>\n",
        "\n",
        "#### Nhận dạng chữ ký\n",
        "\n",
        "<img src='https://media.springernature.com/lw685/springer-static/image/chp%3A10.1007%2F978-3-031-23092-9_8/MediaObjects/543214_1_En_8_Fig6_HTML.png'>"
      ],
      "metadata": {
        "id": "sdkk9-6LqZMN"
      }
    },
    {
      "cell_type": "markdown",
      "source": [
        "##**Ý tưởng của bài toán**\n",
        "####Trong bài toán phân lớp chữ số viết tay MNIST sử dụng neural network, chúng ta sẽ xây dựng một mạng neural network đơn giản với kiến trúc feedforward neural network và huấn luyện nó trên tập dữ liệu MNIST để phân loại chữ số viết tay từ 0 đến 9. Đầu vào của mạng neural network sẽ là các pixel của hình ảnh chữ số viết tay, đầu ra sẽ là xác suất mỗi chữ số từ 0 đến 9.\n",
        "\n",
        "####Quá trình huấn luyện mạng neural network sẽ bao gồm các bước như sau:\n",
        "\n",
        "#### - Tiền xử lý dữ liệu: chuẩn hóa, chia tập train/val/test, ...\n",
        "#### - Xây dựng mô hình: thiết lập các hyperparameters, khởi tạo trọng số, tạo các layer (input, hidden, output), định nghĩa hàm loss và thuật toán tối ưu hóa, ...\n",
        "#### - Huấn luyện mô hình: lặp lại quá trình feedforward và backpropagation trên từng batch, cập nhật trọng số, đánh giá mô hình trên tập val để tinh chỉnh các hyperparameters và tránh overfitting, ...\n",
        "#### - Đánh giá mô hình: đánh giá mô hình trên tập test, tính toán độ chính xác và các chỉ số đánh giá khác.\n",
        "\n",
        "####Kết quả cuối cùng của bài toán sẽ là một mô hình neural network có khả năng phân loại chữ số viết tay từ 0 đến 9 với độ chính xác cao."
      ],
      "metadata": {
        "id": "jVAWsbPv6HQL"
      }
    },
    {
      "cell_type": "markdown",
      "source": [
        "##**Lý do thực hiện đề tài**\n",
        "####Bài toán nhận dạng chữ số viết tay sử dụng Neural Network là một bài toán mang lại ý nghĩa to lớn trong nhiều lĩnh vực và có thể áp dụng nhiều trong thực tế. Tuy nhiên bài toán này là một bài toán tính toán phức tạp và yêu cầu rất nhiều tài nguyên tính toán. Với số lượng lớn ảnh đầu vào và số lượng lớn các nơ-ron trong mạng neural, việc tính toán tuần tự mất rất nhiều thời gian. Để giải quyết vấn đề này, ta cần sử dụng kỹ thuật song song (parallel computing) để chia nhỏ tác vụ tính toán và thực hiện chúng đồng thời trên nhiều lõi xử lý của cùng một máy tính.\n",
        "\n",
        "####Kỹ thuật song song cho phép tăng tốc độ xử lý tính toán bằng cách chia nhỏ tác vụ thành nhiều phần nhỏ hơn, mỗi phần sẽ được thực hiện song song. Điều này giúp giảm thiểu thời gian tính toán, tăng hiệu quả tính toán và giảm chi phí đầu tư vào phần cứng."
      ],
      "metadata": {
        "id": "r_O9bFeq38oA"
      }
    },
    {
      "cell_type": "markdown",
      "metadata": {
        "id": "n1ibXIn9y0nA"
      },
      "source": [
        "## **Giới thiệu về bộ dữ liệu MNIST**\n",
        "\n",
        "####Bộ dữ liệu MNIST (Modified National Institute of Standards and Technology) là một bộ dữ liệu phổ biến trong lĩnh vực nhận dạng chữ số viết tay. Bộ dữ liệu này bao gồm 70.000 ảnh grayscale của các chữ số viết tay từ 0 đến 9 với kích thước 28x28 pixel. Cụ thể, tập huấn luyện gồm 60.000 ảnh và tập kiểm tra gồm 10.000 ảnh. Bộ dữ liệu MNIST đã được chuẩn hóa sẵn và có phân bố đều về các chữ số.\n",
        "\n",
        "####MNIST được coi là một bài toán phân loại cơ bản và thường được sử dụng để kiểm tra tính khả dụng của các thuật toán nhận dạng chữ số viết tay mới. Bộ dữ liệu này được sử dụng phổ biến trong các cuộc thi và dự án liên quan đến lĩnh vực Computer Vision và Machine Learning.\n",
        "\n",
        "####Minh họa bộ dữ liệu chữ số viết tay MNIST\n",
        "![picture](https://machinelearningmastery.com/wp-content/uploads/2019/02/Plot-of-a-Subset-of-Images-from-the-MNIST-Dataset-1024x768.png)\n"
      ]
    },
    {
      "cell_type": "markdown",
      "source": [
        "# Giải quyết bài toán"
      ],
      "metadata": {
        "id": "3FKL-Zfc1_NK"
      }
    },
    {
      "cell_type": "markdown",
      "source": [
        "## Các hàm chức năng"
      ],
      "metadata": {
        "id": "VJLicepx4XRU"
      }
    },
    {
      "cell_type": "code",
      "source": [
        "# Import thư viện\n",
        "import numpy as np\n",
        "import numba\n",
        "from numba import jit, prange, cuda\n",
        "from numba import config\n",
        "config.THREADING_LAYER = 'omp'\n",
        "from keras.datasets import mnist\n",
        "from keras.utils import np_utils\n",
        "import matplotlib.pyplot as plt\n",
        "import timeit\n",
        "import time\n",
        "import math\n",
        "from scipy import signal"
      ],
      "metadata": {
        "id": "Jx2Ub6rl4fUD"
      },
      "execution_count": null,
      "outputs": []
    },
    {
      "cell_type": "code",
      "source": [
        "cuda.detect()"
      ],
      "metadata": {
        "colab": {
          "base_uri": "https://localhost:8080/"
        },
        "id": "bmLGA6MH5CwH",
        "outputId": "72979a62-f654-48f0-b2e7-f6288eb5eae3"
      },
      "execution_count": null,
      "outputs": [
        {
          "output_type": "stream",
          "name": "stdout",
          "text": [
            "Found 1 CUDA devices\n",
            "id 0             b'Tesla T4'                              [SUPPORTED]\n",
            "                      Compute Capability: 7.5\n",
            "                           PCI Device ID: 4\n",
            "                              PCI Bus ID: 0\n",
            "                                    UUID: GPU-ae527059-4242-fb6c-9f17-3d483f01e418\n",
            "                                Watchdog: Disabled\n",
            "             FP32/FP64 Performance Ratio: 32\n",
            "Summary:\n",
            "\t1/1 devices are supported\n"
          ]
        },
        {
          "output_type": "execute_result",
          "data": {
            "text/plain": [
              "True"
            ]
          },
          "metadata": {},
          "execution_count": 3
        }
      ]
    },
    {
      "cell_type": "markdown",
      "source": [
        "Base Layer mà các Layer sẽ kế thừa. Có thuộc tính là input từ layer khác và output truyền đi. Kèm với phương thức foward và backward propagation."
      ],
      "metadata": {
        "id": "n21uZosQ5cCF"
      }
    },
    {
      "cell_type": "code",
      "source": [
        "class Layer:\n",
        "    def __init__(self):\n",
        "        self.input = None\n",
        "        self.output = None\n",
        "\n",
        "    def forward(self, input):\n",
        "        # TODO: return output\n",
        "        pass\n",
        "\n",
        "    def backward(self, output_gradient, learning_rate):\n",
        "        # TODO: update parameters and return input gradient\n",
        "        pass"
      ],
      "metadata": {
        "id": "MzSImo5y5Oi3"
      },
      "execution_count": null,
      "outputs": []
    },
    {
      "cell_type": "markdown",
      "source": [
        "## Cài đặt tuần tự"
      ],
      "metadata": {
        "id": "DT8o0k6lir0J"
      }
    },
    {
      "cell_type": "markdown",
      "source": [
        "### Ý tưởng thiết kế"
      ],
      "metadata": {
        "id": "3OVc3KdSjCBc"
      }
    },
    {
      "cell_type": "markdown",
      "source": [
        "- Các Layer sẽ cài đặt:\n",
        "  - CNN\n",
        "  - Max pooling\n",
        "  - Fully Connected\n",
        "  - Sigmoid\n",
        "  - Relu\n",
        "  - Softmax\n",
        "  \n",
        "- Hàm độ lỗi Categorical Loss\n",
        "\n",
        "\n"
      ],
      "metadata": {
        "id": "T46cggC6-yqv"
      }
    },
    {
      "cell_type": "markdown",
      "source": [
        "![](https://drive.google.com/uc?export=view&amp;id=1ggrbiJGSrmTW_v4aAU0JZFAdnyViVGNu)"
      ],
      "metadata": {
        "id": "XgHARpCaM-XI"
      }
    },
    {
      "cell_type": "markdown",
      "source": [
        "### Cài đặt"
      ],
      "metadata": {
        "id": "MHoFp_vx7IZR"
      }
    },
    {
      "cell_type": "markdown",
      "source": [
        "#### CNN Layer"
      ],
      "metadata": {
        "id": "pcwjRSXiEWdE"
      }
    },
    {
      "cell_type": "markdown",
      "source": [
        "##### Lý thuyết"
      ],
      "metadata": {
        "id": "BR1aFqOk_Uin"
      }
    },
    {
      "cell_type": "markdown",
      "source": [
        "**Forward propagation**\n",
        "- Thao tác forward, ta trượt filter $F$ dọc theo input $X$ và thực hiện phép nhân ma trận, kích thước của input và filter, bước nhảy (stride), và phân viền(padding) sẽ quyết định kích thước của output. \n",
        "\n",
        "- Ví dụ dưới sẽ mô phỏng lại forward propagation với input = 5 x 5, filter = 3 x 3, với pad = 1\n",
        "<img src = \"https://miro.medium.com/v2/resize:fit:640/1*oWhjjHgmmuxljoql06PXpg.gif\" >\n",
        "<img src = \"https://miro.medium.com/v2/resize:fit:640/1*lMtkB9FpMaINPUS_zLairA.gif\"\n",
        "\n",
        "**Backward propagation**\n",
        "\n",
        " <img src=\"https://miro.medium.com/max/1400/1*w8VkZ50foXWTmoXDDnr8tg.png\">\n",
        "\n",
        "\n",
        "Giả sử ta có $X$, $F$ và $\\frac{\\partial{L}}{\\partial{O}}$ lần lượt là input, filter và gradient độ lỗi được lan truyền từ các layer phía sau. \n",
        "Với $O = X \\circledast F$:\n",
        "\n",
        "$O_{11} = X_{11}F_{11} + X_{12}F_{12} + X_{21}F_{21} + X_{22}F_{22}$\n",
        "\n",
        "$O_{12} = X_{12}F_{11} + X_{13}F_{12} + X_{22}F_{21} + X_{23}F_{23}$\n",
        "\n",
        "$O_{21} = X_{21}F_{11} + X_{22}F_{12} + X_{31}F_{21} + X_{32}F_{22}$\n",
        "\n",
        "$O_{22} = X_{22}F_{11} + X_{23}F_{12} + X_{32}F_{21} + X_{33}F_{22}$\n",
        "\n",
        "\n",
        "Xét $O_{11} = X_{11}F_{11} + X_{12}F_{12} + X_{21}F_{21} + X_{22}F_{22}$\n",
        "\n",
        "**Ta cần tính $\\frac{\\partial{L}}{\\partial{F}}$ và $\\frac{\\partial{L}}{\\partial{X}}$.**\n",
        "\n",
        "Sử dụng quy tắc đạo hàm mắc xích, ta có:\n",
        "\n",
        "- $ \\frac{\\partial{L}}{\\partial{F}} = \\frac{\\partial{L}}{\\partial{O}}\\cdot\\frac{\\partial{O}}{\\partial{F}}$.\n",
        "\n",
        "\n",
        "\n",
        "Ta tính đạo hàm cục bộ  $\\frac{\\partial{O}}{\\partial{F}}$\n",
        "\n",
        "$\\frac{\\partial{O_{11}}}{\\partial{F_{11}}} = X_{11} ; \\frac{\\partial{O_{12}}}{\\partial{F_{11}}} = X_{12} ; \\frac{\\partial{O_{21}}}{\\partial{F_{11}}} = X_{21}; \\frac{\\partial{O_{22}}}{\\partial{F_{11}}} = X_{22} $\n",
        "\n",
        "Tương tự với $O_{12}, O_{21}, O_{22}$.\n",
        "\n",
        "Đạo hàm của $L$ theo $F$\n",
        "\n",
        "$\\frac{\\partial{L}}{\\partial{F_{11}}} = \\frac{\\partial{L}}{\\partial{O_{11}}}\\frac{\\partial{O_{11}}}{\\partial{F_{11}}} + \\frac{\\partial{L}}{\\partial{O_{12}}}\\frac{\\partial{O_{12}}}{\\partial{F_{11}}} + \\frac{\\partial{L}}{\\partial{O_{21}}}\\frac{\\partial{O_{21}}}{\\partial{F_{11}}} + \\frac{\\partial{L}}{\\partial{O_{22}}}\\frac{\\partial{O_{22}}}{\\partial{F_{11}}}$\n",
        "\n",
        "$ \\qquad = \\frac{\\partial{L}}{\\partial{O_{11}}}X_{11} + \\frac{\\partial{L}}{\\partial{O_{12}}}X_{12} + \\frac{\\partial{L}}{\\partial{O_{21}}}X_{21} + \\frac{\\partial{L}}{\\partial{O_{22}}}X_{22}$\n",
        "\n",
        "$ \\frac{\\partial{L}}{\\partial{F_{12}}} = \\frac{\\partial{L}}{\\partial{O_{11}}}X_{12} + \\frac{\\partial{L}}{\\partial{O_{12}}}X_{13} + \\frac{\\partial{L}}{\\partial{O_{22}}}X_{22} + \\frac{\\partial{L}}{\\partial{O_{22}}}X_{23}$\n",
        "\n",
        "$ \\frac{\\partial{L}}{\\partial{F_{21}}} = \\frac{\\partial{L}}{\\partial{O_{11}}}X_{21} + \\frac{\\partial{L}}{\\partial{O_{12}}}X_{22} + \\frac{\\partial{L}}{\\partial{O_{21}}}X_{31} + \\frac{\\partial{L}}{\\partial{O_{22}}}X_{32}$\n",
        "\n",
        "$ \\frac{\\partial{L}}{\\partial{F_{22}}} = \\frac{\\partial{L}}{\\partial{O_{11}}}X_{22} + \\frac{\\partial{L}}{\\partial{O_{12}}}X_{23} + \\frac{\\partial{L}}{\\partial{O_{21}}}X_{32} + \\frac{\\partial{L}}{\\partial{O_{22}}}X_{33}$\n",
        "\n",
        "**Chính là kết quả của phép CORRELATE $\\frac{\\partial{L}}{\\partial{F}} = X \\circledast \\frac{\\partial{L}}{\\partial{O}}$**\n",
        "\n",
        "<img src=\"https://miro.medium.com/max/1400/1*Be-DgX7wlxV5bMx1vtZVAg.png\">\n",
        "\n",
        "Đạo hàm của $L$ theo $X$\n",
        "\n",
        "$\\frac{\\partial{L}}{\\partial{X_{11}}} = \\frac{\\partial{L}}{\\partial{O_{11}}}F_{11}$\n",
        "\n",
        "$\\frac{\\partial{L}}{\\partial{X_{12}}} = \\frac{\\partial{L}}{\\partial{O_{11}}}F_{12} + \\frac{\\partial{L}}{\\partial{O_{12}}}F_{11}$\n",
        "\n",
        "$\\frac{\\partial{L}}{\\partial{X_{13}}} = \\frac{\\partial{L}}{\\partial{O_{12}}}F_{12}$\n",
        "\n",
        "$\\frac{\\partial{L}}{\\partial{X_{21}}} = \\frac{\\partial{L}}{\\partial{O_{11}}}F_{21} +  \\frac{\\partial{L}}{\\partial{O_{21}}}F_{11}$\n",
        "\n",
        "$\\frac{\\partial{L}}{\\partial{X_{22}}} = \\frac{\\partial{L}}{\\partial{O_{11}}}F_{22} + \\frac{\\partial{L}}{\\partial{O_{12}}}F_{21} + \\frac{\\partial{L}}{\\partial{O_{21}}}F_{12} + \\frac{\\partial{L}}{\\partial{O_{22}}}F_{11}$\n",
        "\n",
        "$\\frac{\\partial{L}}{\\partial{X_{23}}} = \\frac{\\partial{L}}{\\partial{O_{12}}}F_{22} + \\frac{\\partial{L}}{\\partial{O_{22}}}F_{12}$\n",
        "\n",
        "$\\frac{\\partial{L}}{\\partial{X_{31}}} = \\frac{\\partial{L}}{\\partial{O_{21}}}F_{21}$\n",
        "\n",
        "$\\frac{\\partial{L}}{\\partial{X_{32}}} = \\frac{\\partial{L}}{\\partial{O_{21}}}F_{22} + \\frac{\\partial{L}}{\\partial{O_{22}}}F_{21}$\n",
        "\n",
        "$\\frac{\\partial{L}}{\\partial{X_{33}}} = \\frac{\\partial{L}}{\\partial{O_{22}}}F_{22}$\n",
        "\n",
        "**Chính là kết quả của phép CONVOLUTION $\\frac{\\partial{L}}{\\partial{X}} = rot 180^{\\circ} F_{full}\\circledast  \\frac{\\partial{L}}{\\partial{O}}$**\n",
        "\n",
        "<img src=\"https://miro.medium.com/max/1400/1*ZLFncsvkFZ-n5tTLuBcaqA.png\">"
      ],
      "metadata": {
        "id": "kUx67acrEA6S"
      }
    },
    {
      "cell_type": "markdown",
      "source": [
        "##### Implement"
      ],
      "metadata": {
        "id": "_rN-PrB8YNuo"
      }
    },
    {
      "cell_type": "code",
      "source": [
        "def correlate(input, kernel, stride=1, padding='valid'):\n",
        "  h_i, w_i  = input.shape\n",
        "  h_k, w_k = kernel.shape\n",
        "\n",
        "  s_h = stride\n",
        "  s_w = stride\n",
        "\n",
        "  if padding == 'valid':\n",
        "    p_h = 0\n",
        "    p_w = 0\n",
        "\n",
        "  if padding == 'full':\n",
        "    p_h= h_k - 1\n",
        "    p_w= w_k -1\n",
        "\n",
        "  input = np.pad(input, [(p_h, p_h), (p_w, p_w)], mode='constant', constant_values=0)\n",
        "\n",
        "  h_out = int((h_i - h_k + 2*p_h)/stride + 1)\n",
        "  w_out = int((w_i - w_k + 2*p_w)/stride + 1)\n",
        "\n",
        "  output_conv = np.zeros((h_out, w_out))\n",
        "\n",
        "  for i in range(h_out):\n",
        "        for j in range(w_out):\n",
        "                output_conv[i, j] = np.sum(np.multiply(\n",
        "                        input[\n",
        "                            i*stride:h_k+i*stride,\n",
        "                            j*stride:w_k+j*stride],\n",
        "                        kernel), axis=(0,1))\n",
        "  return output_conv"
      ],
      "metadata": {
        "id": "6GJ6lS47tvP2"
      },
      "execution_count": null,
      "outputs": []
    },
    {
      "cell_type": "code",
      "source": [
        "class CNNLayer(Layer):\n",
        "    def __init__(self, input_shape, kernel_size, depth):\n",
        "        input_depth, input_height, input_width = input_shape\n",
        "        self.depth = depth\n",
        "        self.input_shape = input_shape\n",
        "        self.input_depth = input_depth\n",
        "        self.output_shape = (depth, input_height - kernel_size + 1, input_width - kernel_size + 1)\n",
        "        self.kernels_shape = (depth, input_depth, kernel_size, kernel_size)\n",
        "        np.random.seed(0)\n",
        "        self.kernels = np.random.randn(*self.kernels_shape)\n",
        "        np.random.seed(0)\n",
        "        self.biases = np.random.randn(*self.output_shape)\n",
        "\n",
        "    def forward(self, input):\n",
        "        self.input = input\n",
        "        self.output = np.copy(self.biases)\n",
        "        for i in range(self.depth):\n",
        "            for j in range(self.input_depth):\n",
        "                self.output[i] += correlate(self.input[j], self.kernels[i, j], 1, \"valid\")\n",
        "        return self.output\n",
        "\n",
        "    def backward(self, output_gradient, learning_rate):\n",
        "        kernels_gradient = np.zeros(self.kernels_shape)\n",
        "        input_gradient = np.zeros(self.input_shape)\n",
        "        kernels_rot_180=np.rot90(self.kernels,2)\n",
        "        for i in range(self.depth):\n",
        "            for j in range(self.input_depth):\n",
        "                kernels_gradient[i, j] = correlate(self.input[j], output_gradient[i], 1, \"valid\")\n",
        "                input_gradient[j] += correlate(output_gradient[i], kernels_rot_180[i, j], 1, \"full\")\n",
        "\n",
        "        self.kernels -= learning_rate * kernels_gradient\n",
        "        self.biases -= learning_rate * output_gradient\n",
        "        return input_gradient"
      ],
      "metadata": {
        "id": "DczJerqhAyFi"
      },
      "execution_count": null,
      "outputs": []
    },
    {
      "cell_type": "markdown",
      "source": [
        "#### Pooling Layer: Maxpooling"
      ],
      "metadata": {
        "id": "o7OTFbpV7d81"
      }
    },
    {
      "cell_type": "markdown",
      "source": [
        "##### Lý thuyết"
      ],
      "metadata": {
        "id": "-yeUvDNRCEIa"
      }
    },
    {
      "cell_type": "markdown",
      "source": [
        "**Forward propagation** : di chuyển kernel có kích thước k với bước di chuyển stride và lấy giá trị lớn nhất.\n",
        "\n",
        "<img src='https://www.researchgate.net/publication/338979273/figure/fig4/AS:866157582110721@1583519468777/Max-pooling-and-average-pooling-with-a-2-A-2-filter.png'>"
      ],
      "metadata": {
        "id": "golfq9C1CHrO"
      }
    },
    {
      "cell_type": "markdown",
      "source": [
        "**Backward propagation** : Khi ta max pooling thì ta không có bất kì trọng số nào cả, thứ ta cần backward là kích thước input trước khi pooling. Vì thế ta cần lưu lại index của các giá trị max và các vị trí còn lại thì chèn giá trị 0.\n",
        "\n",
        "<img src='https://mukulrathi.com/static/4e96c9ac277c5380d63b470bb3b82f3b/27b8e/pool-backward.png'>"
      ],
      "metadata": {
        "id": "Hb7hLDm-R1Po"
      }
    },
    {
      "cell_type": "markdown",
      "source": [
        "##### Implement"
      ],
      "metadata": {
        "id": "kWj16_Y8_AhW"
      }
    },
    {
      "cell_type": "code",
      "source": [
        "class MaxPoolingLayer(Layer):\n",
        "  def __init__(self, input_shape, kernel_size, stride):\n",
        "      input_depth, input_height, input_width = input_shape\n",
        "      self.depth = input_depth\n",
        "      self.stride = stride\n",
        "      self.input_shape = input_shape\n",
        "      self.output_shape = (self.depth, int((input_height - kernel_size) / stride) + 1, int((input_width - kernel_size) / stride) + 1)\n",
        "      self.kernels_size = kernel_size\n",
        "      self.prev_input = np.zeros(input_shape)\n",
        "\n",
        "  def get_pools(self, input, depth):\n",
        "      pools = []\n",
        "      for i in np.arange(input.shape[0], step=self.stride):\n",
        "          for j in np.arange(input.shape[1], step=self.stride):\n",
        "              mat = input[i:i+self.kernels_size, j:j+self.kernels_size]\n",
        "              if mat.shape == (self.kernels_size, self.kernels_size):\n",
        "                 pools.append(np.max(mat))\n",
        "                 idx = np.where(input[i:i+self.kernels_size,j:j+self.kernels_size] == np.max(mat))\n",
        "                 self.prev_input[depth][i + idx[0][0],j + idx[1][0]] = input[i + idx[0][0],j + idx[1][0]]\n",
        "                     \n",
        "      tgt_shape = (self.output_shape[1], self.output_shape[2])\n",
        "      return np.array(pools).reshape(tgt_shape)\n",
        "\n",
        "  def max_pooling(self, input):\n",
        "      num_pools = input.shape[1]\n",
        "      tgt_shape = (self.output_shape[1], self.output_shape[2])\n",
        "      pooled = []\n",
        "      for pool in input:\n",
        "          pooled.append(np.max(pool))\n",
        "      return np.array(pooled).reshape(tgt_shape)\n",
        "\n",
        "  def forward(self, input):\n",
        "      self.input = input\n",
        "      self.output = np.zeros(self.output_shape)\n",
        "      for i in range(self.depth):\n",
        "              self.output[i] = self.get_pools(self.input[i], i)\n",
        "      return self.output\n",
        "  \n",
        "  def backward(self, output_gradient, learning_rate):\n",
        "      return self.prev_input\n"
      ],
      "metadata": {
        "id": "2lg9UNqs8SMW"
      },
      "execution_count": null,
      "outputs": []
    },
    {
      "cell_type": "markdown",
      "source": [
        "#### Flatten Layer"
      ],
      "metadata": {
        "id": "nx33JDJ6Ewi-"
      }
    },
    {
      "cell_type": "markdown",
      "source": [
        "##### Lý thuyết"
      ],
      "metadata": {
        "id": "r2DpngDnu81j"
      }
    },
    {
      "cell_type": "markdown",
      "source": [
        "Output của CNN có dạng ma trận (2 chiều), ta cần phải \"trải phẳng\" ra trước khi đưa qua lớp Fully Connected.\n",
        "\n",
        "<img src='https://static.wixstatic.com/media/5adb1b_ef9160a7c14b4b93978297508262dfeb~mv2.png/v1/fill/w_640,h_370,al_c,q_85,usm_0.66_1.00_0.01,enc_auto/5adb1b_ef9160a7c14b4b93978297508262dfeb~mv2.png'>"
      ],
      "metadata": {
        "id": "Z82piKP6FBAQ"
      }
    },
    {
      "cell_type": "markdown",
      "source": [
        "##### Implement"
      ],
      "metadata": {
        "id": "54n1SoimvAWr"
      }
    },
    {
      "cell_type": "code",
      "source": [
        "class Reshape(Layer):\n",
        "    def __init__(self, input_shape, output_shape):\n",
        "        self.input_shape = input_shape\n",
        "        self.output_shape = output_shape\n",
        "\n",
        "    def forward(self, input):\n",
        "        return np.reshape(input, self.output_shape)\n",
        "\n",
        "    def backward(self, output_gradient, learning_rate):\n",
        "        return np.reshape(output_gradient, self.input_shape)"
      ],
      "metadata": {
        "id": "I0wHT1IGE6K8"
      },
      "execution_count": null,
      "outputs": []
    },
    {
      "cell_type": "markdown",
      "source": [
        "#### Fully Connected Layer"
      ],
      "metadata": {
        "id": "KyG1mrNeRAUk"
      }
    },
    {
      "cell_type": "markdown",
      "source": [
        "##### Lý thuyết\n"
      ],
      "metadata": {
        "id": "amlnk3uMQ-2g"
      }
    },
    {
      "cell_type": "markdown",
      "source": [
        "**Định nghĩa**: Trong fully-connected layer, tất cả các nút (neuron) trong lớp này được kết nối với tất cả các nút trong lớp trước đó và lớp sau đó (nếu có), tức là mỗi nút trong lớp này nhận đầu vào từ tất cả các nút trong lớp trước đó và tạo ra đầu ra cho tất cả các nút trong lớp sau đó.\n",
        "\n",
        "<img src='https://miro.medium.com/max/876/1*jOObSF4HAB5VL5wO6petqA.png'>"
      ],
      "metadata": {
        "id": "l3HjDGUNRE0g"
      }
    },
    {
      "cell_type": "markdown",
      "source": [
        "**Forward propagation**\n",
        "- Việc lan tuyền tiến(Forward propagation) thực hiện như sau:\n",
        "\n",
        " <img src='https://miro.medium.com/max/674/0*Ec9fiXkNOoA5Z2v5.png'>\n",
        "\n",
        "- Với việc chúng ta sử dụng ma trận thì chúng ta có tích vô hướng (dot product) như sau:\n",
        "\n",
        "1. Ta có các ma trận:\n",
        "\n",
        " <img src='https://miro.medium.com/max/1400/0*qTBPwmzIjBOGKpXH.png'>\n",
        "\n",
        "2. Từ đó ta có được:\n",
        "\n",
        " <img src='https://miro.medium.com/max/506/0*FsJQ82GmKlV2X22z.png'>"
      ],
      "metadata": {
        "id": "ZDDFXTEi-R9p"
      }
    },
    {
      "cell_type": "markdown",
      "source": [
        "**Backward propagation**\n",
        "- Giả sử chúng ta đã có $Y$ và $E$, từ đó ta tính toán được $\\frac{\\partial{E}}{\\partial{Y}}$ hay đạo hàm độ lỗi với output. Tiếp đến ta cần tính toán 2 thứ:\n",
        "1. Đạo hàm độ lỗi $E$ với từng tham số: $\\frac{\\partial{E}}{\\partial{W}}$, $\\frac{\\partial{E}}{\\partial{B}}$\n",
        "\n",
        "2. Đạo hàm độ lỗi $E$ với input $X$: $\\frac{\\partial{E}}{\\partial{X}}$ "
      ],
      "metadata": {
        "id": "bRnnHAAZRSOA"
      }
    },
    {
      "cell_type": "markdown",
      "source": [
        "1. Đầu tiên là tính $\\frac{\\partial{E}}{\\partial{W}}$, ma trận này nên cùng kích thước với ma trận $W$ với kích thước $i \\times j$. $i$ là số lượng input nơ-ron và $j$ là số lượng output nơ-ron.\n",
        "\n",
        " <img src='https://miro.medium.com/max/802/0*PiVZ-czmfvBaAFSe.png'>"
      ],
      "metadata": {
        "id": "9lTMWgqZRT4t"
      }
    },
    {
      "cell_type": "markdown",
      "source": [
        "- Sử dụng chain rule, ta có:\n",
        "\n",
        " <img src='https://miro.medium.com/max/1242/0*cKYlxf87ZwkKtnrt.png'>"
      ],
      "metadata": {
        "id": "J8TCyolyRV70"
      }
    },
    {
      "cell_type": "markdown",
      "source": [
        "- Cuối cùng ta rút ra được: \n",
        "\n",
        " <img src='https://miro.medium.com/max/1042/0*sEeQVqIapym6O9VH.png'>"
      ],
      "metadata": {
        "id": "QL8VaZLjRX6V"
      }
    },
    {
      "cell_type": "markdown",
      "source": [
        "- Tiếp đến ta tính $\\frac{\\partial{E}}{\\partial{B}}$\n",
        "\n",
        " <img src='https://miro.medium.com/max/1032/0*sJVXt05jf2cgd_Ys.png'>"
      ],
      "metadata": {
        "id": "Sq85mmHyRZ0M"
      }
    },
    {
      "cell_type": "markdown",
      "source": [
        "- Ở đây ta tiếp tục sử dụng chain rule:\n",
        "\n",
        " <img src='https://miro.medium.com/max/1114/0*ud43sxuKpgPo9Rlo.png'>\n",
        "\n",
        "\n",
        "- Cuối cùng rút ra được là: \n",
        "\n",
        " <img src='https://miro.medium.com/max/1046/0*sovSd27ja1_7R2yU.png'>"
      ],
      "metadata": {
        "id": "3yKW2TXSRcZ-"
      }
    },
    {
      "cell_type": "markdown",
      "source": [
        "2. Tính toán cho $\\frac{\\partial{E}}{\\partial{X}}$\n",
        "\n",
        " <img src='https://miro.medium.com/max/1052/0*nPzn6Jgv-P0wxUA7.png'>"
      ],
      "metadata": {
        "id": "KcZzfX-tRets"
      }
    },
    {
      "cell_type": "markdown",
      "source": [
        "- Đầu tiên là chain rule:\n",
        "\n",
        " <img src='https://miro.medium.com/max/1118/0*x6uE01GkG3NKLNQp.png'>\n",
        "\n",
        "\n",
        "- Cuối cùng rút ra được là: \n",
        "\n",
        " <img src='https://miro.medium.com/max/1400/0*JWCzIdtJVTeQ_PG8.png'>"
      ],
      "metadata": {
        "id": "gOawIAd3Riw1"
      }
    },
    {
      "cell_type": "markdown",
      "source": [
        "- Ta có được các công thức để áp dụng như sau:\n",
        "\n",
        " <img src='https://miro.medium.com/max/492/0*HlI8qj8qZqGIWBrk.png'>"
      ],
      "metadata": {
        "id": "J_Yx0gjJRna9"
      }
    },
    {
      "cell_type": "markdown",
      "source": [
        "##### Implement"
      ],
      "metadata": {
        "id": "OF34e4KnRjdg"
      }
    },
    {
      "cell_type": "code",
      "source": [
        "class FCLayer(Layer):\n",
        "    def __init__(self, input_size, output_size):\n",
        "        self.weights = np.random.randn(output_size, input_size)\n",
        "        self.bias = np.random.randn(output_size, 1)\n",
        "\n",
        "    def forward(self, input):\n",
        "        self.input = input\n",
        "        return np.dot(self.weights, self.input) + self.bias\n",
        "\n",
        "    def backward(self, output_gradient, learning_rate):\n",
        "        weights_gradient = np.dot(output_gradient, self.input.T)\n",
        "        input_gradient = np.dot(self.weights.T, output_gradient)\n",
        "        self.weights -= learning_rate * weights_gradient\n",
        "        self.bias -= learning_rate * output_gradient\n",
        "        return input_gradient"
      ],
      "metadata": {
        "id": "hrKtxcEURs9-"
      },
      "execution_count": null,
      "outputs": []
    },
    {
      "cell_type": "markdown",
      "source": [
        "#### Activation Layer"
      ],
      "metadata": {
        "id": "0Is2TnKVRtax"
      }
    },
    {
      "cell_type": "markdown",
      "source": [
        "##### Lý thuyết"
      ],
      "metadata": {
        "id": "KYFjzydgSHri"
      }
    },
    {
      "cell_type": "markdown",
      "source": [
        "**Định nghĩa**: Hàm kích hoạt (activation function) là một hàm được sử dụng trong mô hình neural network để giúp tính toán giá trị đầu ra của một neuron. Nó đóng vai trò quan trọng trong việc tạo ra các dự đoán chính xác trong neural network.\n",
        " \n",
        " <img src='https://miro.medium.com/max/770/1*xl7UacJfCUAk_KqX3WI49Q.png'>"
      ],
      "metadata": {
        "id": "NZjHllwCRvaE"
      }
    },
    {
      "cell_type": "markdown",
      "source": [
        "**Forward propagation**\n",
        "\n",
        "- Là hàm kích hoạt cho từng phần tử trong ma trận input.\n",
        "\n",
        " <img src='https://miro.medium.com/max/906/0*Aw9jCvpliMjaO00W.png'>"
      ],
      "metadata": {
        "id": "HRo9EujQi3AZ"
      }
    },
    {
      "cell_type": "markdown",
      "source": [
        "**Backward propagation**\n",
        "\n",
        "- Giả sử đã có $\\frac{\\partial{E}}{\\partial{Y}}$, giờ thì ta tính $\\frac{\\partial{E}}{\\partial{X}}$ cho layer này.\n",
        "\n",
        " <img src='https://miro.medium.com/max/1400/0*9aXZPVNHXXpz1vd9.png'>\n",
        "\n",
        "\n",
        "- Lưu ý dòng cuối biểu tượng $\\odot$ ám chỉ phép toán [Hamada product](https://en.wikipedia.org/wiki/Hadamard_product_(matrices)) nghĩa là ma trận cùng kích thước nhân tương ứng các phần tử với nhau. (VD: ma trận $A$,$B$ thì nhân tương ứng là $a_{ij} \\times b_{ij}$)"
      ],
      "metadata": {
        "id": "zEp74dFyRxru"
      }
    },
    {
      "cell_type": "markdown",
      "source": [
        "##### Implement"
      ],
      "metadata": {
        "id": "KLfxKj9aRzh5"
      }
    },
    {
      "cell_type": "code",
      "source": [
        "class Activation(Layer):\n",
        "    def __init__(self, activation, activation_prime):\n",
        "        self.activation = activation\n",
        "        self.activation_prime = activation_prime\n",
        "\n",
        "    def forward(self, input):\n",
        "        self.input = input\n",
        "        return self.activation(self.input)\n",
        "\n",
        "    def backward(self, output_gradient, learning_rate):\n",
        "        return np.multiply(output_gradient, self.activation_prime(self.input))"
      ],
      "metadata": {
        "id": "hRnBuFC4R42u"
      },
      "execution_count": null,
      "outputs": []
    },
    {
      "cell_type": "code",
      "source": [
        "class Sigmoid(Activation):\n",
        "    def __init__(self):\n",
        "        def sigmoid(x):\n",
        "            return 1 / (1 + np.exp(-x))\n",
        "\n",
        "        def sigmoid_prime(x):\n",
        "            s = sigmoid(x)\n",
        "            return s * (1 - s)\n",
        "\n",
        "        super().__init__(sigmoid, sigmoid_prime)"
      ],
      "metadata": {
        "id": "luKCvIcrEWe2"
      },
      "execution_count": null,
      "outputs": []
    },
    {
      "cell_type": "markdown",
      "source": [
        "#### Softmax layer\n"
      ],
      "metadata": {
        "id": "uu9NcR2Cmoq6"
      }
    },
    {
      "cell_type": "markdown",
      "source": [
        "##### Lý thuyết"
      ],
      "metadata": {
        "id": "WqzD3PBxSSjG"
      }
    },
    {
      "cell_type": "markdown",
      "source": [
        "**Định nghĩa**: Softmax layer thường được sử dụng trong các mô hình mạng neural để tính toán xác suất của mỗi lớp đối với đầu ra của mô hình. Softmax layer sẽ nhận đầu vào là một vector các giá trị, sau đó tính toán các giá trị xác suất tương ứng cho mỗi lớp bằng cách áp dụng hàm softmax cho các giá trị đó. Hàm softmax sẽ chuyển đổi giá trị đầu vào thành một vector xác suất, trong đó tổng các phần tử của vector là 1"
      ],
      "metadata": {
        "id": "0IzFChsRrCgF"
      }
    },
    {
      "cell_type": "markdown",
      "source": [
        "**Forward propagation**\n",
        "- Công thức tổng quát của softmax như sau:\n",
        "\n",
        "![image.png](data:image/png;base64,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)"
      ],
      "metadata": {
        "id": "bFrq4Hc4mx8w"
      }
    },
    {
      "cell_type": "markdown",
      "source": [
        "**Backward propagation**\n",
        "- Về cơ bản vẫn giống như các layer khác. Ta giả sử có đạo hàm độ lỗi với output, từ đó ta cần tìm đạo hàm độ lỗi với input.\n",
        "![image.png](data:image/png;base64,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)"
      ],
      "metadata": {
        "id": "_tYJ9TGKm4um"
      }
    },
    {
      "cell_type": "markdown",
      "source": [
        "- Sử dụng chain rule cho từng phần tử $x_k$\n",
        "\n",
        " ![image.png](data:image/png;base64,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)"
      ],
      "metadata": {
        "id": "N1UDaCwcnD1O"
      }
    },
    {
      "cell_type": "markdown",
      "source": [
        "- Sử dụng công thức đạo hàm $(\\frac{u}{v})' = \\frac{(u'v-uv')}{v^2}$. Ta có:\n",
        "\n",
        " ![image.png](data:image/png;base64,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)"
      ],
      "metadata": {
        "id": "9tAO6iVRnGnp"
      }
    },
    {
      "cell_type": "markdown",
      "source": [
        "- Ta có thể viết đạo hàm độ lỗi theo input dưới dạng ma trận như sau:\n",
        "\n",
        " ![image.png](data:image/png;base64,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)"
      ],
      "metadata": {
        "id": "X0VbN4GbnKQa"
      }
    },
    {
      "cell_type": "markdown",
      "source": [
        "- Sau đó phân tích thành:\n",
        " \n",
        " ![image.png](data:image/png;base64,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)\n",
        "\n",
        "- Từ đó thay vào:\n",
        "\n",
        " ![image.png](data:image/png;base64,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)"
      ],
      "metadata": {
        "id": "_Qaxupy9nP8j"
      }
    },
    {
      "cell_type": "markdown",
      "source": [
        "- Nếu để ý từng dòng thì ta có thể thấy rằng dòng 1 thì tất cả luôn có chung nhân tử $y_1$. Tương tự dòng kế tiếp, nên từ đó ta có thể viết lại như sau:\n",
        "\n",
        " ![image.png](data:image/png;base64,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)\n",
        "\n",
        "  biểu tượng $\\odot$ ám chỉ phép toán [Hamada product](https://en.wikipedia.org/wiki/Hadamard_product_(matrices)) hay element-wise"
      ],
      "metadata": {
        "id": "-gFJRTVunUhp"
      }
    },
    {
      "cell_type": "markdown",
      "source": [
        "- Và để ý ma trận thứ 2 dường như hàng chéo bị trừ bởi 1 và phần còn lại là 0. Đây là phép trừ ma trận giữa ma trận đơn vị và ma trận chuyển vị của ma trận thứ 1:\n",
        "\n",
        " ![image.png](data:image/png;base64,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)"
      ],
      "metadata": {
        "id": "Jj3hMWB6nYz3"
      }
    },
    {
      "cell_type": "markdown",
      "source": [
        "- Kí hiệu ma trận đầu tiên là $M$ thì ta có thể viết gọn như sau:\n",
        "\n",
        " ![image.png](data:image/png;base64,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)"
      ],
      "metadata": {
        "id": "CIYyMy8QnbiC"
      }
    },
    {
      "cell_type": "markdown",
      "source": [
        "##### Implement"
      ],
      "metadata": {
        "id": "x297vTeEnee_"
      }
    },
    {
      "cell_type": "code",
      "source": [
        "class Softmax(Layer):\n",
        "    def forward(self, input):\n",
        "        self.input = input\n",
        "        tmp = np.exp(self.input)\n",
        "        self.output = tmp / np.sum(tmp)\n",
        "        return self.output\n",
        "    \n",
        "    def backward(self, output_gradient, learning_rate):\n",
        "        n = np.size(self.output)\n",
        "        return np.dot((np.identity(n) - self.output.T) * self.output, output_gradient)"
      ],
      "metadata": {
        "id": "bu1s861PniuI"
      },
      "execution_count": null,
      "outputs": []
    },
    {
      "cell_type": "markdown",
      "source": [
        "#### Loss function"
      ],
      "metadata": {
        "id": "K2EpxujbR2YV"
      }
    },
    {
      "cell_type": "markdown",
      "source": [
        "##### Lý thuyết"
      ],
      "metadata": {
        "id": "T-h2ZCIQwT6k"
      }
    },
    {
      "cell_type": "markdown",
      "source": [
        "**Tính toán layer cuối cùng nhất**\n",
        "\n",
        "- Với các layer trước thì luôn có $\\frac{\\partial{E}}{\\partial{Y}}$ tính được từ layer sau. Nhưng với layer out cuối cùng nhất thì lấy ở đâu?\n",
        "\n",
        "- Đáp án chính là việc ta tính toán từ hàm mất mát. Một trong số đó là hàm MSE - Mean Square Error. \n",
        "\n",
        " <img src='https://miro.medium.com/max/726/0*CuLKvZnTvjT1d6KJ.png'>\n",
        "\n",
        "- Đạo hàm ta có:\n",
        "\n",
        " <img src='https://miro.medium.com/max/1176/0*2ggVYLPNH-vIJir6.png'>"
      ],
      "metadata": {
        "id": "ycIIMv4MR_Yz"
      }
    },
    {
      "cell_type": "markdown",
      "source": [
        "**Binary Cross Entropy Loss.**\n",
        "\n",
        "- Là 1 layer output đưa ra dự đoán $Y^*$, mỗi $y_i \\in Y^*$ với $y_i \\in {\\{0,1\\}}$ so với giá trị thực là $Y$. Đây là kiểu mã hóa hay dùng cho các bài toán phân lớp.(VD: nhận dạng chữ viết tay từ số 0-9 sẽ làm các $y_i$ tại $i$ tương ứng có giá trị là 1, còn lại là 0).\n",
        "\n",
        "- Công thức toán học để tính sự mất mát là: \n",
        "\n",
        " ![image.png](data:image/png;base64,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)"
      ],
      "metadata": {
        "id": "HPK_Xw4f8pkT"
      }
    },
    {
      "cell_type": "markdown",
      "source": [
        "##### Implement"
      ],
      "metadata": {
        "id": "ER1ercuqSNwl"
      }
    },
    {
      "cell_type": "code",
      "source": [
        "def reshape_labels(prediction,labels):\n",
        "    label_reshape = np.zeros(prediction.shape)\n",
        "    for i in range(0,len(prediction)):\n",
        "        label_reshape[i][labels[i]] = 1\n",
        "    return(label_reshape)\n",
        "\n",
        "def loss_SSE(prediction, labels):\n",
        "    loss_SSE = []\n",
        "    labels_reshape = reshape_labels(prediction, labels)\n",
        "    for i in range(0,len(prediction)):\n",
        "        loss_SSE.append(np.sum((prediction[i] - labels_reshape[i])**2))\n",
        "    return(np.mean(loss_SSE))\n",
        "\n",
        "def grad_loss(prediction, labels):\n",
        "    label_reshape = reshape_labels(prediction, labels)\n",
        "    grad_loss_out = []\n",
        "    for i in range(0,len(prediction)):\n",
        "        grad_loss_out.append(2*(prediction[i] - label_reshape[i]))\n",
        "    return(np.array(grad_loss_out))\n",
        "    \n",
        "def softmax(x):\n",
        "    e_x = np.exp(x - np.max(x))\n",
        "    return e_x / e_x.sum()\n",
        "\n",
        "def grad_softmax(x):\n",
        "    grad_softmax =[]\n",
        "    for k in range(0,len(x)):\n",
        "        jacobian =np.empty((x.shape[-1],x.shape[-1]))\n",
        "        for i in range(0, jacobian.shape[0]):\n",
        "            for j in range(0, jacobian.shape[1]):\n",
        "                if i == j:\n",
        "                    jacobian[i][j] =  x[k][i] * (1 - x[k][j])\n",
        "                else:\n",
        "                    jacobian[i][j] =  x[k][i] * (0 - x[k][j])\n",
        "        grad_softmax.append(jacobian)            \n",
        "    return(np.array(grad_softmax))   \n",
        "    grad_loss_outputs = grad_loss(prediction, labels)\n",
        "    grad_outputs_z = grad_softmax(prediction)"
      ],
      "metadata": {
        "id": "7eTaKIN-VDSq"
      },
      "execution_count": null,
      "outputs": []
    },
    {
      "cell_type": "code",
      "source": [
        "def mse(y_true, y_pred):\n",
        "    return np.mean(np.power(y_true-y_pred, 2));\n",
        "\n",
        "def mse_prime(y_true, y_pred):\n",
        "    return 2*(y_pred-y_true)/y_true.size;\n",
        "\n",
        "def binary_cross_entropy(y_true, y_pred):\n",
        "    return np.mean(-y_true * np.log(y_pred) - (1 - y_true) * np.log(1 - y_pred))\n",
        "\n",
        "def binary_cross_entropy_prime(y_true, y_pred):\n",
        "    return ((1 - y_true) / (1 - y_pred) - y_true / y_pred) / np.size(y_true)"
      ],
      "metadata": {
        "id": "lCl_IK0jSRSG"
      },
      "execution_count": null,
      "outputs": []
    },
    {
      "cell_type": "markdown",
      "source": [
        "#### Xây dựng Network"
      ],
      "metadata": {
        "id": "ZN9tW4DtSPnE"
      }
    },
    {
      "cell_type": "code",
      "source": [
        "def predict(network, input):\n",
        "    output = input\n",
        "    for layer in network:\n",
        "        output = layer.forward(output)\n",
        "    return output\n",
        "\n",
        "def train(network, loss, loss_prime, x_train, y_train, epochs = 1000, learning_rate = 0.01, verbose = True):\n",
        "    for e in range(epochs):\n",
        "        error = 0\n",
        "        for x, y in zip(x_train, y_train):\n",
        "            output = predict(network, x)\n",
        "            error += loss(y, output)\n",
        "            grad = loss_prime(y, output)\n",
        "            for layer in reversed(network):\n",
        "                grad = layer.backward(grad, learning_rate)\n",
        "        error /= len(x_train)\n",
        "        if verbose:\n",
        "            print(f\"{e + 1}/{epochs}, error={error}\")"
      ],
      "metadata": {
        "id": "kPvlor-wSWcd"
      },
      "execution_count": null,
      "outputs": []
    },
    {
      "cell_type": "markdown",
      "source": [
        "### Thử nghiệm"
      ],
      "metadata": {
        "id": "QaKCAy_GFkyP"
      }
    },
    {
      "cell_type": "code",
      "source": [
        "def preprocess_data(x, y, limit): \n",
        "    zero_index = np.where(y == 0)[0][:limit]\n",
        "    one_index = np.where(y == 1)[0][:limit]\n",
        "    two_index = np.where(y == 2)[0][:limit]\n",
        "    all_indices = np.hstack((zero_index, one_index, two_index))\n",
        "    all_indices = np.random.permutation(all_indices)\n",
        "    x, y = x[all_indices], y[all_indices]\n",
        "    x = x.reshape(len(x), 1, 28, 28)\n",
        "    y = np_utils.to_categorical(y)\n",
        "    y = y.reshape(len(y), 3, 1)\n",
        "    return x, y"
      ],
      "metadata": {
        "id": "Vf3SFlIsDLQL"
      },
      "execution_count": null,
      "outputs": []
    },
    {
      "cell_type": "code",
      "source": [
        "(x_train, y_train), (x_test, y_test) = mnist.load_data()\n",
        "x_train, y_train = preprocess_data(x_train, y_train, 100)\n",
        "x_test, y_test = preprocess_data(x_test, y_test, 100)"
      ],
      "metadata": {
        "id": "EbgCn4Ng9_wm",
        "colab": {
          "base_uri": "https://localhost:8080/"
        },
        "outputId": "edbe2cad-92e0-441f-9f6e-77ad98f66eff"
      },
      "execution_count": null,
      "outputs": [
        {
          "output_type": "stream",
          "name": "stdout",
          "text": [
            "Downloading data from https://storage.googleapis.com/tensorflow/tf-keras-datasets/mnist.npz\n",
            "11490434/11490434 [==============================] - 0s 0us/step\n"
          ]
        }
      ]
    },
    {
      "cell_type": "code",
      "source": [
        "print(x_train.shape)\n",
        "print(y_train.shape)\n",
        "print(x_test.shape)\n",
        "print(y_test.shape)"
      ],
      "metadata": {
        "colab": {
          "base_uri": "https://localhost:8080/"
        },
        "id": "th3PvdNc-DFM",
        "outputId": "9a889f1b-1be7-4273-fcdb-88d54f1afa74"
      },
      "execution_count": null,
      "outputs": [
        {
          "output_type": "stream",
          "name": "stdout",
          "text": [
            "(300, 1, 28, 28)\n",
            "(300, 3, 1)\n",
            "(300, 1, 28, 28)\n",
            "(300, 3, 1)\n"
          ]
        }
      ]
    },
    {
      "cell_type": "code",
      "source": [
        "network = [\n",
        "    CNNLayer((1, 28, 28), 3, 5),\n",
        "    Sigmoid(),\n",
        "    MaxPoolingLayer((5,26,26),2, 2),\n",
        "    CNNLayer((5,13,13), 3, 5),\n",
        "    Sigmoid(),\n",
        "    Reshape((5, 11, 11), (5 * 11 * 11, 1)),\n",
        "    FCLayer(5 * 11 * 11, 100),\n",
        "    Sigmoid(),\n",
        "    FCLayer(100, 3),\n",
        "    Softmax()\n",
        "]"
      ],
      "metadata": {
        "id": "NPmqhS6tM8Vk"
      },
      "execution_count": null,
      "outputs": []
    },
    {
      "cell_type": "code",
      "source": [
        "%%time\n",
        "train(\n",
        "    network,\n",
        "    binary_cross_entropy,\n",
        "    binary_cross_entropy_prime,\n",
        "    x_train,\n",
        "    y_train,\n",
        "    epochs=20,\n",
        "    learning_rate=0.1\n",
        ")"
      ],
      "metadata": {
        "id": "mWYdbUnUNCOB",
        "colab": {
          "base_uri": "https://localhost:8080/"
        },
        "outputId": "db108c74-d743-4d34-add1-a2f405a68ea8"
      },
      "execution_count": null,
      "outputs": [
        {
          "output_type": "stream",
          "name": "stderr",
          "text": [
            "<ipython-input-10-b8ee93acf6d0>:4: RuntimeWarning: overflow encountered in exp\n",
            "  return 1 / (1 + np.exp(-x))\n"
          ]
        },
        {
          "output_type": "stream",
          "name": "stdout",
          "text": [
            "1/20, error=0.22969530281507833\n",
            "2/20, error=0.21641651644473323\n",
            "3/20, error=0.2019769762598113\n",
            "4/20, error=0.18940055842158532\n",
            "5/20, error=0.11928637446702567\n",
            "6/20, error=0.09801384682038332\n",
            "7/20, error=0.07790956832457298\n",
            "8/20, error=0.10904640443407845\n",
            "9/20, error=0.11373346971628105\n",
            "10/20, error=0.07102737845991182\n",
            "11/20, error=0.09595945074157415\n",
            "12/20, error=0.03777947311102389\n",
            "13/20, error=0.04180160130277987\n",
            "14/20, error=0.1271628838295213\n",
            "15/20, error=0.08327562396165072\n",
            "16/20, error=0.09555739137046022\n",
            "17/20, error=0.1292226359697128\n",
            "18/20, error=0.1177849239308028\n",
            "19/20, error=0.0858377778066221\n",
            "20/20, error=0.042774041035385256\n",
            "CPU times: user 17min 50s, sys: 9min 10s, total: 27min 1s\n",
            "Wall time: 17min 37s\n"
          ]
        }
      ]
    },
    {
      "cell_type": "code",
      "source": [
        "true = 0\n",
        "for x, y in zip(x_test, y_test):\n",
        "    output = predict(network, x)\n",
        "    if np.argmax(output) == np.argmax(y):\n",
        "      true += 1\n",
        "print(f\"Score: {true/len(x_test)} on predict true:{true} vs true:{len(x_test)}\")"
      ],
      "metadata": {
        "id": "mcfxvNHpG5zu",
        "colab": {
          "base_uri": "https://localhost:8080/"
        },
        "outputId": "11ae92ac-7a75-42d5-804e-2986ae14cfd4"
      },
      "execution_count": null,
      "outputs": [
        {
          "output_type": "stream",
          "name": "stderr",
          "text": [
            "<ipython-input-10-b8ee93acf6d0>:4: RuntimeWarning: overflow encountered in exp\n",
            "  return 1 / (1 + np.exp(-x))\n"
          ]
        },
        {
          "output_type": "stream",
          "name": "stdout",
          "text": [
            "Score: 0.9 on predict true:270 vs true:300\n"
          ]
        }
      ]
    },
    {
      "cell_type": "markdown",
      "source": [
        "## Cài đặt song song"
      ],
      "metadata": {
        "id": "6JPATU-2Iis3"
      }
    },
    {
      "cell_type": "markdown",
      "source": [
        "### Ý tưởng thiết kế"
      ],
      "metadata": {
        "id": "foCLUoRrOaGv"
      }
    },
    {
      "cell_type": "markdown",
      "source": [
        "![](https://drive.google.com/uc?export=view&amp;id=1Gs0tn4qudnT4V7FWTple2leDL3_-kKLx)"
      ],
      "metadata": {
        "id": "3hB4d_IsKM5r"
      }
    },
    {
      "cell_type": "markdown",
      "source": [
        "### Cài đặt"
      ],
      "metadata": {
        "id": "h43v84FkOfE5"
      }
    },
    {
      "cell_type": "code",
      "source": [
        "@cuda.jit\n",
        "def convolve_forward_device(imgs, filters, bias, output):\n",
        "    tx = cuda.threadIdx.x\n",
        "    ty = cuda.threadIdx.y\n",
        "    ii = cuda.blockIdx.x\n",
        "    ff = cuda.blockIdx.y\n",
        "\n",
        "    for c_img in range(filters.shape[1]):\n",
        "        for hh in range(filters.shape[2]):\n",
        "          for ww in range(filters.shape[3]):\n",
        "            imgval = imgs[ii, ty + hh, tx + ww, c_img]\n",
        "            filterval = filters[ff,c_img, hh, ww]\n",
        "            output[ii, ty, tx, ff] += imgval * filterval\n",
        "    output[ii, ty, tx, ff] += bias[ty,tx,ff]\n",
        "\n",
        "@cuda.jit\n",
        "def backward_kernel_device(input, output_gradient, output):\n",
        "    tx = cuda.threadIdx.x\n",
        "    ty = cuda.threadIdx.y\n",
        "    ii = cuda.blockIdx.x\n",
        "    ff = cuda.blockIdx.y\n",
        "    n_imgs = input.shape[0]\n",
        "\n",
        "    for c_img in range(input.shape[3]):\n",
        "        for hh in range(output.shape[2]):\n",
        "          for ww in range(output.shape[3]):\n",
        "            temp = input[ii, ty + hh, tx + ww, c_img] * output_gradient[ii, ty, tx , ff] / n_imgs\n",
        "            output[ff, c_img, hh, ww] += temp \n",
        "\n",
        "@cuda.jit\n",
        "def backward_input_device(output_gradient, kernel, output):\n",
        "  tx = cuda.threadIdx.x\n",
        "  ty = cuda.threadIdx.y\n",
        "  ii = cuda.blockIdx.x\n",
        "  c_img = cuda.blockIdx.y\n",
        "  \n",
        "  for ff in range(kernel.shape[0]):\n",
        "    for hh in range(kernel.shape[2]):\n",
        "      for ww in range(kernel.shape[3]):\n",
        "          temp = output_gradient[ii, ty + hh, tx + ww, ff] * kernel[ff, c_img, hh, ww]\n",
        "          output[ii, ty, tx, c_img] += temp\n",
        "\n",
        "class CNNLayer_Device(Layer):\n",
        "    def __init__(self, input_shape, kernel_size, depth):\n",
        "        input_depth, input_height, input_width = input_shape\n",
        "\n",
        "        self.depth = depth\n",
        "        self.input_shape = input_shape\n",
        "        self.input_depth = input_depth\n",
        "\n",
        "        self.output_shape = (input_height - kernel_size + 1, input_width - kernel_size + 1,depth)\n",
        "        self.kernels_shape = (depth, input_depth, kernel_size, kernel_size)\n",
        "\n",
        "        np.random.seed(10)\n",
        "        self.kernels = np.random.randn(*self.kernels_shape)\n",
        "        np.random.seed(10)\n",
        "        self.biases = np.random.randn(*self.output_shape)\n",
        "\n",
        "    def forward(self, input):\n",
        "        self.input = input\n",
        "        self.output = np.zeros((input.shape[0], self.output_shape[0], self.output_shape[1], self.output_shape[2]))\n",
        "        grid_size = (input.shape[0], self.depth)\n",
        "        block_size = (self.output.shape[1], self.output.shape[2])\n",
        "        d_in = cuda.to_device(input)\n",
        "        d_b = cuda.to_device(self.biases)\n",
        "        d_k = cuda.to_device(self.kernels)\n",
        "        d_out = cuda.to_device(self.output)\n",
        "        convolve_forward_device[grid_size, block_size](d_in, d_k, d_b, d_out)\n",
        "        cuda.synchronize()\n",
        "        self.output = d_out.copy_to_host()\n",
        "        return self.output\n",
        "\n",
        "\n",
        "    def backward(self, output_gradient, learning_rate):\n",
        "        kernel_size=self.kernels_shape[2]\n",
        "        kernels_rot_180=np.rot90(self.kernels,2,axes=(2,3))\n",
        "        kernels_rot_180 = np.ascontiguousarray(kernels_rot_180)\n",
        "\n",
        "        d_k = cuda.to_device(kernels_rot_180)\n",
        "        grid_size = (self.input.shape[0], self.depth)\n",
        "        block_size = (output_gradient.shape[1], output_gradient.shape[2])\n",
        "        kernels_gradient= np.zeros(self.kernels_shape)\n",
        "        d_k_grad = cuda.to_device(kernels_gradient)\n",
        "        d_in = cuda.to_device(self.input)\n",
        "        d_out_grad = cuda.to_device(output_gradient)\n",
        "        backward_kernel_device[grid_size, block_size](d_in, d_out_grad, d_k_grad)\n",
        "        cuda.synchronize()\n",
        "        kernels_gradient = d_k_grad.copy_to_host()\n",
        "\n",
        "        self.kernels -= learning_rate * kernels_gradient\n",
        "        self.biases -= learning_rate * np.mean(output_gradient,axis=0)\n",
        "        \n",
        "        output_gradient=np.pad(output_gradient,[(0,0),(kernel_size-1,kernel_size-1),(kernel_size-1,kernel_size-1),(0,0)])  \n",
        "        \n",
        "        d_out_grad = cuda.to_device(output_gradient)\n",
        "        backward_gradient= np.zeros(self.input.shape)\n",
        "        d_in_grad = cuda.to_device(backward_gradient)\n",
        "        grid_size = (self.input.shape[0], self.input_depth)\n",
        "        block_size = (self.input_shape[1], self.input_shape[2])\n",
        "        backward_input_device[grid_size, block_size](d_out_grad, d_k, d_in_grad)\n",
        "        cuda.synchronize()\n",
        "\n",
        "        backward_gradient = d_in_grad.copy_to_host()\n",
        "        \n",
        "        return backward_gradient"
      ],
      "metadata": {
        "id": "p6JxpDdVI7bM"
      },
      "execution_count": null,
      "outputs": []
    },
    {
      "cell_type": "code",
      "source": [
        "@jit(nopython=True)\n",
        "def maxpooling_forward(input, kernel_size, stride):\n",
        "  n_imgs, n_rows, n_cols, c_imgs = input.shape\n",
        "  output_shape = (n_imgs, int((n_rows - kernel_size) /stride + 1),int((n_cols - kernel_size) / stride + 1), c_imgs)\n",
        "  output = np.zeros(output_shape)\n",
        "  prev_input = np.zeros((output_shape[0],output_shape[1],output_shape[2],output_shape[3],2))\n",
        "\n",
        "  for ii in range(n_imgs):\n",
        "    for c_img in range(c_imgs):\n",
        "      for rr in range(0,n_rows):\n",
        "        for cc in range(0,n_cols):\n",
        "\n",
        "          idx_r = int((rr - kernel_size) // stride + 1)\n",
        "          idx_c = int((cc - kernel_size) // stride + 1)\n",
        "          if (idx_r < output.shape[1] and idx_c < output.shape[2]):\n",
        "            temp_in = input[ii, rr, cc, c_img]\n",
        "            temp_out = output[ii, idx_r, idx_c, c_img]\n",
        "            if (temp_in > temp_out):\n",
        "              output[ii, idx_r, idx_c, c_img] = temp_in\n",
        "              prev_input[ii,idx_r, idx_c, c_img, 0] = rr\n",
        "              prev_input[ii, idx_r, idx_c, c_img, 1] = cc\n",
        "\n",
        "  return output, prev_input\n",
        "\n",
        "@jit(nopython=True)\n",
        "def maxpooling_backward(input, prev_input, prev_shape):\n",
        "  n_imgs, n_rows, n_cols, c_imgs = input.shape\n",
        "  output = np.zeros(prev_shape) \n",
        "  \n",
        "  for ii in range(n_imgs):\n",
        "    for c_img in range(c_imgs):\n",
        "      for rr in range(n_rows):\n",
        "        for cc in range(n_cols):\n",
        "          idx = int(prev_input[ii, rr,cc,c_img, 0])\n",
        "          idy = int(prev_input[ii, rr, cc, c_img, 1])\n",
        "          output[ii, idx, idy, c_img] = input[ii, rr, cc, c_img]\n",
        "  return output\n",
        "\n",
        "class MaxPoolingLayer(Layer):\n",
        "  def __init__(self, kernel_size, stride):\n",
        "      self.kernel_size = kernel_size\n",
        "      self.stride = stride\n",
        "\n",
        "  def forward(self, input):    \n",
        "    output, prev_input = maxpooling_forward(input, self.kernel_size, self.stride)\n",
        "\n",
        "    self.prev_input=prev_input\n",
        "    self.pre_shape=input.shape\n",
        "    return output\n",
        "\n",
        "  def backward(self,input, learning_rate):\n",
        "    return maxpooling_backward(input, self.prev_input, self.pre_shape)"
      ],
      "metadata": {
        "id": "1mODNwTxJQWr"
      },
      "execution_count": null,
      "outputs": []
    },
    {
      "cell_type": "code",
      "source": [
        "class Reshape(Layer):\n",
        "    def __init__(self):\n",
        "      pass\n",
        "\n",
        "    def forward(self, input):\n",
        "        self.input_shape=input.shape\n",
        "        output_shape=1\n",
        "        for i in self.input_shape[1:]:\n",
        "          output_shape*=i\n",
        "        self.output_shape=(self.input_shape[0],output_shape)\n",
        "        return np.reshape(input, self.output_shape)\n",
        "\n",
        "    def backward(self, output_gradient, learning_rate):\n",
        "        return np.reshape(output_gradient, self.input_shape)"
      ],
      "metadata": {
        "id": "U-dRGf2wJbSh"
      },
      "execution_count": null,
      "outputs": []
    },
    {
      "cell_type": "code",
      "source": [
        "\n",
        "@jit(parallel=True)\n",
        "def FC_forward(input, weight,bias):\n",
        "  n_imgs = input.shape[0]\n",
        "\n",
        "  res=np.zeros((n_imgs,weight.shape[1]))\n",
        "  for nn in prange(n_imgs):\n",
        "      for oo in prange(weight.shape[1]):\n",
        "          res[nn][oo]=bias[oo]\n",
        "          for ii in range(weight.shape[0]):\n",
        "            res[nn][oo]+=input[nn][ii]*weight[ii][oo]\n",
        "\n",
        "  return res   \n",
        "     \n",
        "\n",
        "\n",
        "@jit(parallel=True)\n",
        "def FC_backward(input, weight, bias, output_gradient, learning_rate):\n",
        "\n",
        "  n_imgs = input.shape[0]\n",
        "  input_T=input.T\n",
        "\n",
        "  weight_gradient = np.zeros(weight.shape)\n",
        "\n",
        "  for ii in prange(input_T.shape[0]):\n",
        "    for oo in prange(output_gradient.shape[1]):\n",
        "      for nn in range(n_imgs):\n",
        "        weight_gradient[ii][oo]+=input_T[ii][nn]*output_gradient[nn][oo]/n_imgs\n",
        "  weight-=learning_rate*weight_gradient\n",
        "\n",
        "  for nn in prange(n_imgs):\n",
        "    bias-=learning_rate*output_gradient[nn]/n_imgs\n",
        "\n",
        "  weight_T=weight.T\n",
        "  \n",
        "  input_gradient = np.zeros(input.shape)\n",
        "\n",
        "  for nn in prange(output_gradient.shape[0]):\n",
        "    for ii in prange(weight_T.shape[1]):\n",
        "      for oo in range(weight_T.shape[0]):\n",
        "        input_gradient[nn][ii]+=output_gradient[nn][oo]*weight_T[oo][ii]\n",
        "        \n",
        "  return input_gradient\n",
        "\n",
        "class FCLayer(Layer):\n",
        "    def __init__(self, input_size, output_size):\n",
        "      self.output_size=output_size\n",
        "      np.random.seed(10)\n",
        "      self.weights = np.random.randn(input_size, output_size)/100\n",
        "      np.random.seed(10)\n",
        "      self.bias = np.random.randn(output_size)/100\n",
        "\n",
        "    def forward(self, input):\n",
        "      self.input = input\n",
        "      return FC_forward(self.input, self.weights,self.bias)\n",
        "\n",
        "    def backward(self, output_gradient, learning_rate):\n",
        "      return FC_backward(self.input, self.weights, self.bias, output_gradient, learning_rate)\n",
        "     "
      ],
      "metadata": {
        "id": "enqD6xRkU66z"
      },
      "execution_count": null,
      "outputs": []
    },
    {
      "cell_type": "code",
      "source": [
        "\n",
        "@cuda.jit\n",
        "def FC_forward_device(input, weight,bias, res):\n",
        "\n",
        "  nn = cuda.grid(1)\n",
        "  if (nn >= input.shape[0]):\n",
        "    return\n",
        "  for oo in range(weight.shape[1]):\n",
        "    res[nn][oo]=bias[oo]\n",
        "    for ii in range(weight.shape[0]):\n",
        "      res[nn][oo]+=input[nn][ii]*weight[ii][oo]\n",
        "\n",
        "@cuda.jit\n",
        "def FC_backward_device(input_T, weight_T, output_gradient, input_gradient, weight_gradient):\n",
        "\n",
        "  nn = cuda.grid(1)\n",
        "  n_imgs = input_T.shape[1]\n",
        "  if nn >= n_imgs:\n",
        "    return\n",
        "\n",
        "  for ii in prange(input_T.shape[0]):\n",
        "     for oo in prange(output_gradient.shape[1]):\n",
        "         weight_gradient[ii][oo]+=input_T[ii][nn]*output_gradient[nn][oo]/n_imgs\n",
        "\n",
        "  for ii in prange(weight_T.shape[1]):\n",
        "       for oo in range(weight_T.shape[0]):\n",
        "         input_gradient[nn][ii]+=output_gradient[nn][oo]*weight_T[oo][ii]\n",
        "\n",
        "class FCLayer_Device(Layer):\n",
        "    def __init__(self, input_size, output_size):\n",
        "      self.output_size=output_size\n",
        "      np.random.seed(10)\n",
        "      self.weights = np.random.randn(input_size, output_size)/100\n",
        "      np.random.seed(10)\n",
        "      self.bias = np.random.randn(output_size)/100\n",
        "\n",
        "    def forward(self, input):\n",
        "      self.input = input\n",
        "      self.block_size = 32\n",
        "      self.grid_size = math.ceil(input.shape[0] / self.block_size)\n",
        "      res=np.zeros((input.shape[0],self.weights.shape[1]))\n",
        "      d_input = cuda.to_device(input)\n",
        "      d_weight = cuda.to_device(self.weights)\n",
        "      d_bias = cuda.to_device(self.bias)\n",
        "      d_res = cuda.to_device(res)\n",
        "      FC_forward_device[self.grid_size, self.block_size](d_input, d_weight,d_bias, d_res)\n",
        "      cuda.synchronize()\n",
        "      res = d_res.copy_to_host()\n",
        "      res_host = FC_forward(self.input, self.weights,self.bias)\n",
        "      return res\n",
        "\n",
        "    def backward(self, output_gradient, learning_rate):\n",
        "      d_input_T = cuda.to_device(self.input.T)\n",
        "      d_weight_T = cuda.to_device(self.weights.T)\n",
        "      d_out_grad = cuda.to_device(output_gradient)\n",
        "\n",
        "      input_gradient = np.zeros(self.input.shape)\n",
        "      d_in_grad = cuda.to_device(input_gradient)\n",
        "\n",
        "      weight_gradient = np.zeros(self.weights.shape)\n",
        "      d_weight_grad = cuda.to_device(weight_gradient)\n",
        "\n",
        "      FC_backward_device[self.grid_size, self.block_size](d_input_T, d_weight_T, d_out_grad, d_in_grad, d_weight_grad)\n",
        "      cuda.synchronize()\n",
        "      input_gradient = d_in_grad.copy_to_host()\n",
        "      weight_gradient = d_weight_grad.copy_to_host()\n",
        "      in_host = FC_backward(self.input, self.weights, self.bias, output_gradient, learning_rate)\n",
        "      self.bias -= learning_rate * np.mean(output_gradient, axis = 0)\n",
        "      self.weights -= learning_rate * weight_gradient\n",
        "      return input_gradient"
      ],
      "metadata": {
        "id": "f52wD50Q6Ftk"
      },
      "execution_count": null,
      "outputs": []
    },
    {
      "cell_type": "code",
      "source": [
        "class Relu(Layer):\n",
        "  def __init__(self, alpha = 0.1):\n",
        "    self.alpha = alpha\n",
        "\n",
        "  def forward(self, inputs):\n",
        "    self.inputs = inputs.copy()\n",
        "    self.outputs = np.maximum(0, inputs)\n",
        "    return self.outputs\n",
        "\n",
        "  def backward(self, output_gradient, learning_rate):\n",
        "    self.input_gradient = output_gradient.copy()\n",
        "    self.input_gradient[self.inputs < 0] = 0\n",
        "    return self.input_gradient"
      ],
      "metadata": {
        "id": "KWZIjJeTKnhS"
      },
      "execution_count": null,
      "outputs": []
    },
    {
      "cell_type": "code",
      "source": [
        "@jit(nopython=True)\n",
        "def softmax_forward(input):\n",
        "  n_imgs = input.shape[0]\n",
        "  output = np.zeros(input.shape)\n",
        "  for nn in range(n_imgs):\n",
        "    tmp = np.exp(input[nn] - np.max(input[nn]))\n",
        "    output[nn] = tmp / np.sum(tmp)\n",
        "  return output\n",
        "\n",
        "class Softmax(Layer):\n",
        "    def forward(self, input):\n",
        "      self.output = softmax_forward(input)\n",
        "      return self.output\n",
        "    \n",
        "    def backward(self, output_gradient, learning_rate):\n",
        "      return output_gradient"
      ],
      "metadata": {
        "id": "huZ95pYFKlHI"
      },
      "execution_count": null,
      "outputs": []
    },
    {
      "cell_type": "code",
      "source": [
        "@jit(nopython=True)\n",
        "def categorical_crossentropy(y_true, y_pred):\n",
        "  n_imgs = y_true.shape[0]\n",
        "  num_class=y_true.shape[1]\n",
        "  res = np.zeros(y_true.shape)\n",
        "  for nn in range(n_imgs):\n",
        "    for cc in range(num_class):\n",
        "      res[nn]+=-np.log(y_pred[nn][cc])*y_true[nn][cc]\n",
        "  return res\n",
        "\n",
        "@jit(nopython=True)\n",
        "def categorical_crossentropy_backpropagation(y_true, y_pred):\n",
        "    n_imgs = y_true.shape[0]\n",
        "    size = y_true.shape[1]\n",
        "    res = np.zeros(y_true.shape)\n",
        "    for nn in range(n_imgs):\n",
        "      for cc in range(size):\n",
        "        if y_true[nn][cc]!=0:\n",
        "          res[nn][cc]=y_pred[nn][cc]-1\n",
        "        else:\n",
        "          res[nn][cc]=y_pred[nn][cc]\n",
        "    return res/n_imgs"
      ],
      "metadata": {
        "id": "J9UrNVowJnqK"
      },
      "execution_count": null,
      "outputs": []
    },
    {
      "cell_type": "code",
      "source": [
        "def predict(network, input):\n",
        "    output = input\n",
        "    for layer in network:\n",
        "        output = layer.forward(output)\n",
        "    return output\n",
        "\n",
        "def train(network, loss, loss_prime, x_train, y_train, epochs = 1000,batch_size=600,learning_rate = 0.01, verbose = True):\n",
        "  n=x_train.shape[0]\n",
        "  batch_count=n//batch_size\n",
        "  batch_index=[]\n",
        "\n",
        "  for i in range(batch_count):\n",
        "    batch_index.append((i*batch_size,(i+1)*batch_size))\n",
        "  if batch_count*batch_size !=n:\n",
        "    batch_index.append((batch_count*batch_size,n))\n",
        "  for e in range(epochs):\n",
        "    start=time.time()\n",
        "    error = 0\n",
        "    for i, j in batch_index:\n",
        "      output = predict(network, x_train[i:j])\n",
        "      grad = loss_prime(y_train[i:j], output)\n",
        "      loss_batch=loss(y_train[i:j], output)\n",
        "      error += np.sum(loss_batch)/len(x_train)\n",
        "      for layer in reversed(network):\n",
        "          grad = layer.backward(grad, learning_rate)\n",
        "    if verbose:\n",
        "        end=time.time()\n",
        "        print(f\"{e+1}/{epochs}, error={error}\")\n",
        "        print(\"Epoch time:\",end-start)"
      ],
      "metadata": {
        "id": "VzgeyfWTJysN"
      },
      "execution_count": null,
      "outputs": []
    },
    {
      "cell_type": "markdown",
      "source": [
        "### Thử nghiệm"
      ],
      "metadata": {
        "id": "vebVe3Z065yE"
      }
    },
    {
      "cell_type": "code",
      "source": [
        "def preprocess_data(x, y,limit=60000): \n",
        "    x = x.reshape(len(x), 28, 28,1)[:limit]\n",
        "    y = np_utils.to_categorical(y)\n",
        "    y = y.reshape(len(y), 10)\n",
        "    return x/255.0, y"
      ],
      "metadata": {
        "id": "Ml7DjqvIIpee"
      },
      "execution_count": null,
      "outputs": []
    },
    {
      "cell_type": "code",
      "source": [
        "(x_train, y_train), (x_test, y_test) = mnist.load_data()"
      ],
      "metadata": {
        "id": "hkOLKuZxIuOw",
        "colab": {
          "base_uri": "https://localhost:8080/"
        },
        "outputId": "24392ac7-bd4d-4639-d143-5e239a1e8787"
      },
      "execution_count": null,
      "outputs": [
        {
          "output_type": "stream",
          "name": "stdout",
          "text": [
            "Downloading data from https://storage.googleapis.com/tensorflow/tf-keras-datasets/mnist.npz\n",
            "11490434/11490434 [==============================] - 0s 0us/step\n"
          ]
        }
      ]
    },
    {
      "cell_type": "code",
      "source": [
        "x_train, y_train=preprocess_data(x_train, y_train,60000)\n",
        "x_test, y_test = preprocess_data(x_test, y_test,10000)"
      ],
      "metadata": {
        "id": "1ut1LTmKIzgr"
      },
      "execution_count": null,
      "outputs": []
    },
    {
      "cell_type": "code",
      "execution_count": null,
      "metadata": {
        "colab": {
          "base_uri": "https://localhost:8080/"
        },
        "outputId": "4ddbbb94-dd00-4f51-de41-cf2c4df7015d",
        "id": "q1njorkDNyqD"
      },
      "outputs": [
        {
          "output_type": "stream",
          "name": "stdout",
          "text": [
            "1/5, error=57.14243706078294\n",
            "Epoch time: 195.0925328731537\n",
            "2/5, error=13.707427712719898\n",
            "Epoch time: 187.69963359832764\n",
            "3/5, error=10.394441232255485\n",
            "Epoch time: 185.18033409118652\n",
            "4/5, error=8.24526076456696\n",
            "Epoch time: 183.5708727836609\n",
            "5/5, error=6.6383829016278515\n",
            "Epoch time: 185.1456196308136\n",
            "CPU times: user 17min 30s, sys: 29 s, total: 18min\n",
            "Wall time: 15min 36s\n"
          ]
        }
      ],
      "source": [
        "%%time\n",
        "network = [\n",
        "    CNNLayer_Device((1, 28, 28), 3, 32),\n",
        "    Relu(),\n",
        "    MaxPoolingLayer(2, 2),\n",
        "    CNNLayer_Device((32,13,13), 3, 64),\n",
        "    Relu(),\n",
        "    MaxPoolingLayer(2, 2),\n",
        "    Reshape(),\n",
        "    FCLayer(5 * 5 * 64, 10),\n",
        "    Softmax()\n",
        "]\n",
        "\n",
        "train(\n",
        "    network,\n",
        "    categorical_crossentropy,\n",
        "    categorical_crossentropy_backpropagation,\n",
        "    x_train,\n",
        "    y_train,\n",
        "    epochs=5,\n",
        "    batch_size=32,\n",
        "    learning_rate=0.01\n",
        ")"
      ]
    },
    {
      "cell_type": "code",
      "source": [
        "%%time\n",
        "y_pred = predict(network, x_test)"
      ],
      "metadata": {
        "colab": {
          "base_uri": "https://localhost:8080/"
        },
        "id": "sX0nl2WmOCku",
        "outputId": "0985fef9-297d-43ac-bed7-2f47e000be9c"
      },
      "execution_count": null,
      "outputs": [
        {
          "output_type": "stream",
          "name": "stdout",
          "text": [
            "CPU times: user 36.8 s, sys: 2.83 s, total: 39.6 s\n",
            "Wall time: 39.4 s\n"
          ]
        }
      ]
    },
    {
      "cell_type": "code",
      "source": [
        "true = 0\n",
        "for x, y in zip(y_pred, y_test):\n",
        "   if np.argmax(x) == np.argmax(y):\n",
        "     true += 1"
      ],
      "metadata": {
        "id": "9_HOBjkbOGTm"
      },
      "execution_count": null,
      "outputs": []
    },
    {
      "cell_type": "code",
      "source": [
        "print(f\"Score: {true/y_pred.shape[0]} on predict true:{true} vs true:{y_pred.shape[0]}\")"
      ],
      "metadata": {
        "colab": {
          "base_uri": "https://localhost:8080/"
        },
        "id": "11uwDf2ROIKX",
        "outputId": "5d6e4534-f972-47e2-db83-55990c4ee365"
      },
      "execution_count": null,
      "outputs": [
        {
          "output_type": "stream",
          "name": "stdout",
          "text": [
            "Score: 0.9613 on predict true:9613 vs true:10000\n"
          ]
        }
      ]
    },
    {
      "cell_type": "markdown",
      "source": [
        "#Tài liệu tham khảo"
      ],
      "metadata": {
        "id": "SwgzDb_B2O2v"
      }
    },
    {
      "cell_type": "markdown",
      "source": [
        "https://pavisj.medium.com/convolutions-and-backpropagations-46026a8f5d2c\n",
        "\n",
        "https://medium.com/analytics-vidhya/convolutional-neural-networks-and-backpropagation-using-numpy-4da2c9d14fdd\n",
        "\n",
        "https://www.linkedin.com/pulse/forward-back-propagation-over-cnn-code-from-scratch-coy-ulloa/\n",
        "\n",
        "https://towardsdatascience.com/lets-code-convolutional-neural-network-in-plain-numpy-ce48e732f5d5\n",
        "\n",
        "https://towardsdatascience.com/cross-entropy-loss-function-f38c4ec8643e\n",
        "\n",
        "https://nttuan8.com/bai-6-convolutional-neural-network/\n",
        "\n",
        "https://towardsdatascience.com/math-neural-network-from-scratch-in-python-d6da9f29ce65\n",
        "\n",
        "https://github.com/WHDY/mnist_cnn_numba_cuda\n",
        "\n",
        "https://github.com/TheIndependentCode/Neural-Network"
      ],
      "metadata": {
        "id": "Nt_E8AwKw5_o"
      }
    }
  ],
  "metadata": {
    "colab": {
      "provenance": [],
      "collapsed_sections": [
        "OF34e4KnRjdg",
        "x297vTeEnee_"
      ],
      "toc_visible": true
    },
    "kernelspec": {
      "display_name": "Python 3",
      "name": "python3"
    },
    "language_info": {
      "name": "python"
    },
    "accelerator": "GPU",
    "gpuClass": "standard"
  },
  "nbformat": 4,
  "nbformat_minor": 0
}